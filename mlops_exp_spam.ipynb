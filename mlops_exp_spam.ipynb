{
 "cells": [
  {
   "cell_type": "code",
   "execution_count": 1,
   "id": "5b3b6073",
   "metadata": {},
   "outputs": [],
   "source": [
    "import pandas as pd"
   ]
  },
  {
   "cell_type": "code",
   "execution_count": 2,
   "id": "6f68dfe9",
   "metadata": {},
   "outputs": [],
   "source": [
    "import mlflow"
   ]
  },
  {
   "cell_type": "code",
   "execution_count": 3,
   "id": "ba691afb",
   "metadata": {},
   "outputs": [
    {
     "data": {
      "text/plain": [
       "[<Experiment: artifact_location='file:///C:/Users/USER/Desktop/MLFlow_Spam/mlruns/276831911855750534', creation_time=1693636723439, experiment_id='276831911855750534', last_update_time=1693636723439, lifecycle_stage='active', name='lemma_bow_v4', tags={}>,\n",
       " <Experiment: artifact_location='file:///C:/Users/USER/Desktop/MLFlow_Spam/mlruns/714334430258642456', creation_time=1693636532712, experiment_id='714334430258642456', last_update_time=1693636532712, lifecycle_stage='active', name='lemmatoken_v4', tags={}>,\n",
       " <Experiment: artifact_location='file:///C:/Users/USER/Desktop/MLFlow_Spam/mlruns/607675071012601167', creation_time=1693636284506, experiment_id='607675071012601167', last_update_time=1693636284506, lifecycle_stage='active', name='StemToken_v3', tags={}>,\n",
       " <Experiment: artifact_location='file:///C:/Users/USER/Desktop/MLFlow_Spam/mlruns/921301241704540182', creation_time=1693631832605, experiment_id='921301241704540182', last_update_time=1693631832605, lifecycle_stage='active', name='Spam_V2', tags={}>,\n",
       " <Experiment: artifact_location='mlflow-artifacts:/0', creation_time=1693631360427, experiment_id='0', last_update_time=1693631360427, lifecycle_stage='active', name='Default', tags={}>]"
      ]
     },
     "execution_count": 3,
     "metadata": {},
     "output_type": "execute_result"
    }
   ],
   "source": [
    "mlflow.search_experiments()"
   ]
  },
  {
   "cell_type": "code",
   "execution_count": 4,
   "id": "d2de5ba1",
   "metadata": {},
   "outputs": [
    {
     "name": "stdout",
     "output_type": "stream",
     "text": [
      "lemma_bow_v4 276831911855750534\n",
      "lemmatoken_v4 714334430258642456\n",
      "StemToken_v3 607675071012601167\n",
      "Spam_V2 921301241704540182\n",
      "Default 0\n"
     ]
    }
   ],
   "source": [
    "for exp in mlflow.search_experiments():\n",
    "    print(exp.name, exp.experiment_id)"
   ]
  },
  {
   "cell_type": "code",
   "execution_count": 5,
   "id": "71cdb87c",
   "metadata": {},
   "outputs": [
    {
     "name": "stdout",
     "output_type": "stream",
     "text": [
      "('artifact_location', 'mlflow-artifacts:/0')\n",
      "('creation_time', 1693631360427)\n",
      "('experiment_id', '0')\n",
      "('last_update_time', 1693631360427)\n",
      "('lifecycle_stage', 'active')\n",
      "('name', 'Default')\n",
      "('tags', {})\n"
     ]
    }
   ],
   "source": [
    "for i in exp:\n",
    "    print(i)"
   ]
  },
  {
   "cell_type": "code",
   "execution_count": 8,
   "id": "72d70f94",
   "metadata": {},
   "outputs": [],
   "source": [
    "\n",
    "Run_ID = '8e8f62a1f59c4a209da509a78c6efb38'\n",
    "\n",
    "# load from run id\n",
    "logged_vect = f'runs:/{Run_ID}/vectorizer'\n",
    "logged_model = f'runs:/{Run_ID}/model'\n",
    "loaded_vect = mlflow.sklearn.load_model(logged_vect)\n",
    "loaded_model = mlflow.pyfunc.load_model(logged_model)"
   ]
  },
  {
   "cell_type": "code",
   "execution_count": 9,
   "id": "115251be",
   "metadata": {},
   "outputs": [],
   "source": [
    "run_id = str(loaded_model).split()[-1]\n",
    "logged_vect = f'runs:/{run_id}/vectorizer'\n",
    "loaded_vect = mlflow.sklearn.load_model(logged_vect)"
   ]
  },
  {
   "cell_type": "code",
   "execution_count": 10,
   "id": "dece2bd1",
   "metadata": {},
   "outputs": [
    {
     "data": {
      "text/html": [
       "<style>#sk-container-id-1 {color: black;}#sk-container-id-1 pre{padding: 0;}#sk-container-id-1 div.sk-toggleable {background-color: white;}#sk-container-id-1 label.sk-toggleable__label {cursor: pointer;display: block;width: 100%;margin-bottom: 0;padding: 0.3em;box-sizing: border-box;text-align: center;}#sk-container-id-1 label.sk-toggleable__label-arrow:before {content: \"▸\";float: left;margin-right: 0.25em;color: #696969;}#sk-container-id-1 label.sk-toggleable__label-arrow:hover:before {color: black;}#sk-container-id-1 div.sk-estimator:hover label.sk-toggleable__label-arrow:before {color: black;}#sk-container-id-1 div.sk-toggleable__content {max-height: 0;max-width: 0;overflow: hidden;text-align: left;background-color: #f0f8ff;}#sk-container-id-1 div.sk-toggleable__content pre {margin: 0.2em;color: black;border-radius: 0.25em;background-color: #f0f8ff;}#sk-container-id-1 input.sk-toggleable__control:checked~div.sk-toggleable__content {max-height: 200px;max-width: 100%;overflow: auto;}#sk-container-id-1 input.sk-toggleable__control:checked~label.sk-toggleable__label-arrow:before {content: \"▾\";}#sk-container-id-1 div.sk-estimator input.sk-toggleable__control:checked~label.sk-toggleable__label {background-color: #d4ebff;}#sk-container-id-1 div.sk-label input.sk-toggleable__control:checked~label.sk-toggleable__label {background-color: #d4ebff;}#sk-container-id-1 input.sk-hidden--visually {border: 0;clip: rect(1px 1px 1px 1px);clip: rect(1px, 1px, 1px, 1px);height: 1px;margin: -1px;overflow: hidden;padding: 0;position: absolute;width: 1px;}#sk-container-id-1 div.sk-estimator {font-family: monospace;background-color: #f0f8ff;border: 1px dotted black;border-radius: 0.25em;box-sizing: border-box;margin-bottom: 0.5em;}#sk-container-id-1 div.sk-estimator:hover {background-color: #d4ebff;}#sk-container-id-1 div.sk-parallel-item::after {content: \"\";width: 100%;border-bottom: 1px solid gray;flex-grow: 1;}#sk-container-id-1 div.sk-label:hover label.sk-toggleable__label {background-color: #d4ebff;}#sk-container-id-1 div.sk-serial::before {content: \"\";position: absolute;border-left: 1px solid gray;box-sizing: border-box;top: 0;bottom: 0;left: 50%;z-index: 0;}#sk-container-id-1 div.sk-serial {display: flex;flex-direction: column;align-items: center;background-color: white;padding-right: 0.2em;padding-left: 0.2em;position: relative;}#sk-container-id-1 div.sk-item {position: relative;z-index: 1;}#sk-container-id-1 div.sk-parallel {display: flex;align-items: stretch;justify-content: center;background-color: white;position: relative;}#sk-container-id-1 div.sk-item::before, #sk-container-id-1 div.sk-parallel-item::before {content: \"\";position: absolute;border-left: 1px solid gray;box-sizing: border-box;top: 0;bottom: 0;left: 50%;z-index: -1;}#sk-container-id-1 div.sk-parallel-item {display: flex;flex-direction: column;z-index: 1;position: relative;background-color: white;}#sk-container-id-1 div.sk-parallel-item:first-child::after {align-self: flex-end;width: 50%;}#sk-container-id-1 div.sk-parallel-item:last-child::after {align-self: flex-start;width: 50%;}#sk-container-id-1 div.sk-parallel-item:only-child::after {width: 0;}#sk-container-id-1 div.sk-dashed-wrapped {border: 1px dashed gray;margin: 0 0.4em 0.5em 0.4em;box-sizing: border-box;padding-bottom: 0.4em;background-color: white;}#sk-container-id-1 div.sk-label label {font-family: monospace;font-weight: bold;display: inline-block;line-height: 1.2em;}#sk-container-id-1 div.sk-label-container {text-align: center;}#sk-container-id-1 div.sk-container {/* jupyter's `normalize.less` sets `[hidden] { display: none; }` but bootstrap.min.css set `[hidden] { display: none !important; }` so we also need the `!important` here to be able to override the default hidden behavior on the sphinx rendered scikit-learn.org. See: https://github.com/scikit-learn/scikit-learn/issues/21755 */display: inline-block !important;position: relative;}#sk-container-id-1 div.sk-text-repr-fallback {display: none;}</style><div id=\"sk-container-id-1\" class=\"sk-top-container\"><div class=\"sk-text-repr-fallback\"><pre>TfidfVectorizer()</pre><b>In a Jupyter environment, please rerun this cell to show the HTML representation or trust the notebook. <br />On GitHub, the HTML representation is unable to render, please try loading this page with nbviewer.org.</b></div><div class=\"sk-container\" hidden><div class=\"sk-item\"><div class=\"sk-estimator sk-toggleable\"><input class=\"sk-toggleable__control sk-hidden--visually\" id=\"sk-estimator-id-1\" type=\"checkbox\" checked><label for=\"sk-estimator-id-1\" class=\"sk-toggleable__label sk-toggleable__label-arrow\">TfidfVectorizer</label><div class=\"sk-toggleable__content\"><pre>TfidfVectorizer()</pre></div></div></div></div></div>"
      ],
      "text/plain": [
       "TfidfVectorizer()"
      ]
     },
     "execution_count": 10,
     "metadata": {},
     "output_type": "execute_result"
    }
   ],
   "source": [
    "loaded_vect"
   ]
  },
  {
   "cell_type": "code",
   "execution_count": 11,
   "id": "5c969f2d",
   "metadata": {},
   "outputs": [],
   "source": [
    "import streamlit as st  \n",
    "import pandas as pd\n",
    "from nltk.corpus import stopwords\n",
    "from nltk.tokenize import word_tokenize\n",
    "from nltk.stem import PorterStemmer\n",
    "from nltk.stem import WordNetLemmatizer\n",
    "\n",
    "def preprocess_text(text):\n",
    "    stop_words = set(stopwords.words('english'))\n",
    "    stemmer = PorterStemmer()\n",
    "    lemmatizer = WordNetLemmatizer()\n",
    "    words = word_tokenize(text.lower())\n",
    "    # filtered_words = [word for word in words if word.isalpha()]\n",
    "    # filtered_words = [word for word in words if word.isalpha() and word not in stop_words]\n",
    "    # filtered_words = [stemmer.stem(word) for word in words if word.isalpha() and word not in stop_words]\n",
    "    filtered_words = [lemmatizer.lemmatize(word) for word in words if word.isalpha() and word not in stop_words]\n",
    "    return ' '.join(filtered_words)"
   ]
  },
  {
   "cell_type": "code",
   "execution_count": 12,
   "id": "ca1c6324",
   "metadata": {},
   "outputs": [
    {
     "name": "stdout",
     "output_type": "stream",
     "text": [
      "Predicted label: spam\n"
     ]
    }
   ],
   "source": [
    "text = \"URGENT! You have won a 1 week FREE membership in our Â£100,000 Prize Jackpot!\"\n",
    "\n",
    "# get the run_id\n",
    "Run_ID = '8e8f62a1f59c4a209da509a78c6efb38'\n",
    "\n",
    "# load from run id\n",
    "logged_vect = f'runs:/{Run_ID}/vectorizer'\n",
    "logged_model = f'runs:/{Run_ID}/model'\n",
    "loaded_vect = mlflow.sklearn.load_model(logged_vect)\n",
    "loaded_model = mlflow.pyfunc.load_model(logged_model)\n",
    "\n",
    "# Preprocess the new raw text\n",
    "processed_text = preprocess_text(text)\n",
    "\n",
    "# Vectorize the processed text\n",
    "vectorized_text = loaded_vect.transform([processed_text])\n",
    "\n",
    "# Make prediction\n",
    "prediction = loaded_model.predict(vectorized_text)\n",
    "\n",
    "# Print the prediction\n",
    "print(f\"Predicted label: {prediction[0]}\")"
   ]
  },
  {
   "cell_type": "code",
   "execution_count": 15,
   "id": "802b225d",
   "metadata": {},
   "outputs": [
    {
     "data": {
      "text/plain": [
       "2"
      ]
     },
     "execution_count": 15,
     "metadata": {},
     "output_type": "execute_result"
    }
   ],
   "source": [
    "# This will fetch all registered models   \n",
    "reg_models = mlflow.search_model_versions()\n",
    "\n",
    "len(reg_models)"
   ]
  },
  {
   "cell_type": "code",
   "execution_count": 16,
   "id": "90fdb359",
   "metadata": {},
   "outputs": [
    {
     "data": {
      "text/plain": [
       "[<ModelVersion: aliases=[], creation_timestamp=1693638108904, current_stage='Production', description='', last_updated_timestamp=1693638414043, name='spamfilter', run_id='8e8f62a1f59c4a209da509a78c6efb38', run_link='', source='file:///C:/Users/USER/Desktop/MLFlow_Spam/mlruns/714334430258642456/8e8f62a1f59c4a209da509a78c6efb38/artifacts/vectorizer', status='READY', status_message=None, tags={}, user_id=None, version=1>,\n",
       " <ModelVersion: aliases=[], creation_timestamp=1693638141555, current_stage='None', description='', last_updated_timestamp=1693638141555, name='spamfilter', run_id='cca7670e199e4358acb0b9324b8f6962', run_link='', source='file:///C:/Users/USER/Desktop/MLFlow_Spam/mlruns/276831911855750534/cca7670e199e4358acb0b9324b8f6962/artifacts/vectorizer', status='READY', status_message=None, tags={}, user_id=None, version=2>]"
      ]
     },
     "execution_count": 16,
     "metadata": {},
     "output_type": "execute_result"
    }
   ],
   "source": [
    "mlflow.search_model_versions()"
   ]
  },
  {
   "cell_type": "code",
   "execution_count": 17,
   "id": "584d4050",
   "metadata": {},
   "outputs": [
    {
     "data": {
      "text/plain": [
       "<ModelVersion: aliases=[], creation_timestamp=1693638108904, current_stage='Production', description='', last_updated_timestamp=1693638414043, name='spamfilter', run_id='8e8f62a1f59c4a209da509a78c6efb38', run_link='', source='file:///C:/Users/USER/Desktop/MLFlow_Spam/mlruns/714334430258642456/8e8f62a1f59c4a209da509a78c6efb38/artifacts/vectorizer', status='READY', status_message=None, tags={}, user_id=None, version=1>"
      ]
     },
     "execution_count": 17,
     "metadata": {},
     "output_type": "execute_result"
    }
   ],
   "source": [
    "\n",
    "reg_models[0]"
   ]
  },
  {
   "cell_type": "code",
   "execution_count": 18,
   "id": "84e2edb1",
   "metadata": {},
   "outputs": [
    {
     "data": {
      "text/plain": [
       "[['spamfilter', 1, 'READY', 'Production'], ['spamfilter', 2, 'READY', 'None']]"
      ]
     },
     "execution_count": 18,
     "metadata": {},
     "output_type": "execute_result"
    }
   ],
   "source": [
    "[[model.name, model.version, model.status, model.current_stage] for model in mlflow.search_model_versions()]"
   ]
  },
  {
   "cell_type": "code",
   "execution_count": 19,
   "id": "0f2b9181",
   "metadata": {},
   "outputs": [
    {
     "name": "stdout",
     "output_type": "stream",
     "text": [
      "Run_ID: 8e8f62a1f59c4a209da509a78c6efb38\n",
      "Model Name: spamfilter\n",
      "Version: 1\n"
     ]
    }
   ],
   "source": [
    "def get_production_model():\n",
    "    try:        \n",
    "        # This will fetch all registered models    \n",
    "        prod = [model for model in mlflow.search_model_versions() if model.name == 'spamfilter' and model.current_stage == 'Production'] \n",
    "        model = prod[0]            \n",
    "        print(f\"Run_ID: {model.run_id}\")\n",
    "        print(f\"Model Name: {model.name}\")\n",
    "        print(f\"Version: {model.version}\")               \n",
    "    except:\n",
    "        print(\"No Production Model Found\")\n",
    "\n",
    "get_production_model()"
   ]
  },
  {
   "cell_type": "code",
   "execution_count": null,
   "id": "3f1b1687",
   "metadata": {},
   "outputs": [],
   "source": []
  }
 ],
 "metadata": {
  "kernelspec": {
   "display_name": "Python 3 (ipykernel)",
   "language": "python",
   "name": "python3"
  },
  "language_info": {
   "codemirror_mode": {
    "name": "ipython",
    "version": 3
   },
   "file_extension": ".py",
   "mimetype": "text/x-python",
   "name": "python",
   "nbconvert_exporter": "python",
   "pygments_lexer": "ipython3",
   "version": "3.11.3"
  }
 },
 "nbformat": 4,
 "nbformat_minor": 5
}
